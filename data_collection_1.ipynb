{
 "cells": [
  {
   "cell_type": "markdown",
   "metadata": {},
   "source": [
    "## Youtube Video Analysis with Python"
   ]
  },
  {
   "cell_type": "code",
   "execution_count": 11,
   "metadata": {},
   "outputs": [],
   "source": [
    "from selenium import webdriver \n",
    "import pandas as pd \n",
    "from selenium.webdriver.common.by import By \n",
    "from selenium.webdriver.support.ui import WebDriverWait \n",
    "from selenium.webdriver.support import expected_conditions as EC"
   ]
  },
  {
   "cell_type": "code",
   "execution_count": 22,
   "metadata": {},
   "outputs": [],
   "source": [
    "driver = webdriver.Chrome()\n",
    "driver.get('https://www.youtube.com/results?search_query=food&sp=EgIQAQ%253D%253D')"
   ]
  },
  {
   "cell_type": "code",
   "execution_count": 23,
   "metadata": {},
   "outputs": [
    {
     "name": "stdout",
     "output_type": "stream",
     "text": [
      "212\n"
     ]
    }
   ],
   "source": [
    "user_data = driver.find_elements('xpath', '//*[@id=\"video-title\"]')\n",
    "links = []\n",
    "\n",
    "for i in user_data:\n",
    "    links.append(i.get_attribute('href'))\n",
    "    \n",
    "print(len(links))"
   ]
  },
  {
   "cell_type": "code",
   "execution_count": 25,
   "metadata": {},
   "outputs": [
    {
     "data": {
      "text/plain": [
       "[None,\n",
       " 'https://www.youtube.com/watch?v=T4NOt727wqI',\n",
       " 'https://www.youtube.com/watch?v=CKnGXZxK7zs',\n",
       " 'https://www.youtube.com/watch?v=FqNEx17crMI',\n",
       " 'https://www.youtube.com/watch?v=wNCPgIVz15c',\n",
       " 'https://www.youtube.com/watch?v=cYDlatLj0EU',\n",
       " 'https://www.youtube.com/watch?v=ON_0HyMJnyI',\n",
       " 'https://www.youtube.com/watch?v=v0NNI5wS_GM',\n",
       " 'https://www.youtube.com/watch?v=cNC6h7XaSB8',\n",
       " 'https://www.youtube.com/watch?v=vQMo2Sg1p-Y',\n",
       " 'https://www.youtube.com/watch?v=ol_HktXDxug',\n",
       " 'https://www.youtube.com/watch?v=ooqdg9Wr-mo',\n",
       " 'https://www.youtube.com/watch?v=IwfuZL8-D_I',\n",
       " 'https://www.youtube.com/watch?v=vtSAtH5pEic',\n",
       " 'https://www.youtube.com/watch?v=Kz1DqxOCi00',\n",
       " 'https://www.youtube.com/watch?v=QcCOruaDv5g',\n",
       " 'https://www.youtube.com/watch?v=Gq68r9zkyBw',\n",
       " 'https://www.youtube.com/watch?v=iCzh4bV1dAs',\n",
       " 'https://www.youtube.com/watch?v=uRM0yMF0AtQ',\n",
       " 'https://www.youtube.com/watch?v=71mv4JpE0dc',\n",
       " 'https://www.youtube.com/watch?v=hcsrdPztAmk',\n",
       " 'https://www.youtube.com/watch?v=KCF7OeGD1b4',\n",
       " 'https://www.youtube.com/watch?v=DutQbEPqaNk',\n",
       " 'https://www.youtube.com/watch?v=MtxqrHiP2Mk',\n",
       " 'https://www.youtube.com/watch?v=iZ6Z6KsEkCI',\n",
       " 'https://www.youtube.com/watch?v=0vpJ7QsAsD8',\n",
       " 'https://www.youtube.com/watch?v=WQCh2IRESGk',\n",
       " 'https://www.youtube.com/watch?v=53me-ICi_f8',\n",
       " 'https://www.youtube.com/watch?v=8hHVuK8cA04',\n",
       " 'https://www.youtube.com/watch?v=EIr7l03Rzvk',\n",
       " 'https://www.youtube.com/watch?v=g_1vhq8nMA4',\n",
       " 'https://www.youtube.com/shorts/YuozdGbyDWo',\n",
       " 'https://www.youtube.com/watch?v=mP8XuQjUuGk',\n",
       " 'https://www.youtube.com/watch?v=drGeDmBXNuU',\n",
       " 'https://www.youtube.com/watch?v=9Ze7BdiIKfo',\n",
       " 'https://www.youtube.com/watch?v=yLDMSd9bz_A',\n",
       " 'https://www.youtube.com/watch?v=VPMxB7N2Znc',\n",
       " 'https://www.youtube.com/watch?v=FBP-DxfZCgo',\n",
       " 'https://www.youtube.com/watch?v=L7x-eStTfmE',\n",
       " 'https://www.youtube.com/shorts/2fGXptc43q4',\n",
       " 'https://www.youtube.com/watch?v=T4PFt4czJw0',\n",
       " 'https://www.youtube.com/watch?v=hE6f4Lhw_LM',\n",
       " 'https://www.youtube.com/watch?v=2J2YERCzcT0',\n",
       " 'https://www.youtube.com/watch?v=nUZCE40n2zg',\n",
       " 'https://www.youtube.com/watch?v=VIxTwpA6Fwk',\n",
       " 'https://www.youtube.com/watch?v=3QxV-Kb-__I',\n",
       " 'https://www.youtube.com/watch?v=VVhdW1pEKUc',\n",
       " 'https://www.youtube.com/watch?v=jo9xS3vdk_E',\n",
       " 'https://www.youtube.com/watch?v=WA_iUijIee8',\n",
       " 'https://www.youtube.com/watch?v=20jL0aMPpQc',\n",
       " 'https://www.youtube.com/watch?v=lJ8PdLpbcd8',\n",
       " 'https://www.youtube.com/watch?v=bM4UBnv71Xk',\n",
       " 'https://www.youtube.com/watch?v=uCUge68Z228',\n",
       " 'https://www.youtube.com/watch?v=E4YUyRxRVus',\n",
       " 'https://www.youtube.com/watch?v=YgQFc3vOd7E',\n",
       " 'https://www.youtube.com/watch?v=v5A92I_LdU4',\n",
       " 'https://www.youtube.com/watch?v=DwDoX8BZdck',\n",
       " 'https://www.youtube.com/watch?v=NLPuCclm5lA',\n",
       " 'https://www.youtube.com/watch?v=VXjrCIcGZmw',\n",
       " 'https://www.youtube.com/watch?v=wTlERUE8LVw',\n",
       " 'https://www.youtube.com/watch?v=T4PFt4czJw0',\n",
       " 'https://www.youtube.com/watch?v=hE6f4Lhw_LM',\n",
       " 'https://www.youtube.com/watch?v=tiBEo5PXjtg',\n",
       " 'https://www.youtube.com/watch?v=fu6i6edPITE',\n",
       " 'https://www.youtube.com/watch?v=2J2YERCzcT0',\n",
       " 'https://www.youtube.com/watch?v=VIxTwpA6Fwk',\n",
       " 'https://www.youtube.com/watch?v=VVhdW1pEKUc',\n",
       " 'https://www.youtube.com/watch?v=WA_iUijIee8',\n",
       " 'https://www.youtube.com/watch?v=20jL0aMPpQc',\n",
       " 'https://www.youtube.com/watch?v=lJ8PdLpbcd8',\n",
       " 'https://www.youtube.com/watch?v=bM4UBnv71Xk',\n",
       " 'https://www.youtube.com/watch?v=ZDLp9jX6DYQ',\n",
       " 'https://www.youtube.com/watch?v=uCUge68Z228',\n",
       " 'https://www.youtube.com/watch?v=E4YUyRxRVus',\n",
       " 'https://www.youtube.com/watch?v=YgQFc3vOd7E',\n",
       " 'https://www.youtube.com/watch?v=v5A92I_LdU4',\n",
       " 'https://www.youtube.com/watch?v=DwDoX8BZdck',\n",
       " 'https://www.youtube.com/watch?v=nUZCE40n2zg',\n",
       " 'https://www.youtube.com/watch?v=VXjrCIcGZmw',\n",
       " 'https://www.youtube.com/watch?v=RRbbblOqIMc',\n",
       " 'https://www.youtube.com/watch?v=tTJeePNgOF8',\n",
       " 'https://www.youtube.com/shorts/uFhdwYIg0R0',\n",
       " 'https://www.youtube.com/watch?v=hJnlk0JraC0',\n",
       " 'https://www.youtube.com/watch?v=ZRIdNmF-kRw',\n",
       " 'https://www.youtube.com/watch?v=eVP4lN11OlI',\n",
       " 'https://www.youtube.com/watch?v=ZiLVNCa0Uj4',\n",
       " 'https://www.youtube.com/watch?v=7xAzLyzd2h8',\n",
       " 'https://www.youtube.com/watch?v=UkYUIC5NOlQ',\n",
       " 'https://www.youtube.com/watch?v=RDq5AKb9hMM',\n",
       " 'https://www.youtube.com/watch?v=w2-3BKO8198',\n",
       " 'https://www.youtube.com/watch?v=n_k6D4kOCcg',\n",
       " 'https://www.youtube.com/watch?v=dbofhUfQ1p4',\n",
       " 'https://www.youtube.com/watch?v=CJFLTJ-NDyc',\n",
       " 'https://www.youtube.com/watch?v=_JA5sQVGal4',\n",
       " 'https://www.youtube.com/watch?v=GaowfKCO9PY',\n",
       " 'https://www.youtube.com/watch?v=LYfVK0OjbBQ',\n",
       " 'https://www.youtube.com/watch?v=hj0SU_R8lQA',\n",
       " 'https://www.youtube.com/watch?v=Drk6fwPkiWE',\n",
       " 'https://www.youtube.com/watch?v=vtdnfA5ZZds',\n",
       " 'https://www.youtube.com/watch?v=EmeFd-G87MU',\n",
       " 'https://www.youtube.com/watch?v=kqV1XOZyNjQ',\n",
       " 'https://www.youtube.com/watch?v=WXOuM4wTTxU',\n",
       " 'https://www.youtube.com/watch?v=mUj32TA2IkU',\n",
       " 'https://www.youtube.com/watch?v=yGyIyGVQIRg',\n",
       " 'https://www.youtube.com/watch?v=J_u8LLLfpbM',\n",
       " 'https://www.youtube.com/watch?v=FXwVv_Ct_yg',\n",
       " 'https://www.youtube.com/shorts/DRkcG2csO6Q',\n",
       " 'https://www.youtube.com/watch?v=Sww2FXkTKO4',\n",
       " 'https://www.youtube.com/watch?v=BY6d9xw1Ivs',\n",
       " 'https://www.youtube.com/watch?v=P2BQV3b6RhE',\n",
       " 'https://www.youtube.com/watch?v=tiBEo5PXjtg',\n",
       " 'https://www.youtube.com/watch?v=M0N_OypMPvg',\n",
       " 'https://www.youtube.com/watch?v=S8eUnZHK6ek',\n",
       " 'https://www.youtube.com/watch?v=04SGqv4m0Kw',\n",
       " 'https://www.youtube.com/watch?v=tqcuskaReug',\n",
       " 'https://www.youtube.com/watch?v=lEK1JhYgPKc',\n",
       " 'https://www.youtube.com/watch?v=3JHoGH_f3Qw',\n",
       " 'https://www.youtube.com/watch?v=wQaR4-mpmo8',\n",
       " 'https://www.youtube.com/watch?v=xDrspKxfBKY',\n",
       " 'https://www.youtube.com/watch?v=tuSydjKSzf4',\n",
       " 'https://www.youtube.com/watch?v=bol-_4NZjWE',\n",
       " 'https://www.youtube.com/watch?v=bFzpqWXFSTo',\n",
       " 'https://www.youtube.com/watch?v=BMbb7U8l3Vg',\n",
       " 'https://www.youtube.com/watch?v=beqTG61uyl4',\n",
       " 'https://www.youtube.com/watch?v=2yFAeKcR20c',\n",
       " 'https://www.youtube.com/watch?v=bj_ZDx0m9Xo',\n",
       " 'https://www.youtube.com/watch?v=97d8ScOduS4',\n",
       " 'https://www.youtube.com/watch?v=uxtaP9zIksk',\n",
       " 'https://www.youtube.com/watch?v=sZ12W9uqxR4',\n",
       " 'https://www.youtube.com/watch?v=h_roHzPW2sE',\n",
       " 'https://www.youtube.com/watch?v=-LIMVVfRp6Q',\n",
       " 'https://www.youtube.com/watch?v=2sg_aKaVH8c',\n",
       " 'https://www.youtube.com/watch?v=9wdJlIgz4Kc',\n",
       " 'https://www.youtube.com/watch?v=i7pqQwLSXdA',\n",
       " 'https://www.youtube.com/watch?v=vfLdGddGwOw',\n",
       " 'https://www.youtube.com/watch?v=GJZnppDt6HE',\n",
       " 'https://www.youtube.com/watch?v=BtaPTeT5b90',\n",
       " 'https://www.youtube.com/watch?v=D9sm8FPx4Dc',\n",
       " 'https://www.youtube.com/watch?v=J6_KB4B6Ox8',\n",
       " 'https://www.youtube.com/watch?v=539BcENSVKw',\n",
       " 'https://www.youtube.com/watch?v=_TBNCCi-jNc',\n",
       " 'https://www.youtube.com/watch?v=RRHqze2wNfQ',\n",
       " 'https://www.youtube.com/watch?v=s6I0P3X86LU',\n",
       " 'https://www.youtube.com/watch?v=QJmKw33k0mA',\n",
       " 'https://www.youtube.com/watch?v=EeF3ZITmYdo',\n",
       " 'https://www.youtube.com/watch?v=NNCsHng9q4k',\n",
       " 'https://www.youtube.com/watch?v=HSin0BOwH4M',\n",
       " 'https://www.youtube.com/watch?v=2p43Bslh9v0',\n",
       " 'https://www.youtube.com/watch?v=f10-hSdykYQ',\n",
       " 'https://www.youtube.com/watch?v=wTlERUE8LVw',\n",
       " 'https://www.youtube.com/watch?v=n3RvY2uQ6Lo',\n",
       " 'https://www.youtube.com/watch?v=g6ywSx1dsj8',\n",
       " 'https://www.youtube.com/watch?v=u-PgumHXWVo',\n",
       " 'https://www.youtube.com/watch?v=KtyPxdNhkLY',\n",
       " 'https://www.youtube.com/watch?v=NoZ1QwqDuWU',\n",
       " 'https://www.youtube.com/shorts/aLIqQ69GFzs',\n",
       " 'https://www.youtube.com/watch?v=RgYhgNWLqtY',\n",
       " 'https://www.youtube.com/watch?v=2YN5ZxUOqqU',\n",
       " 'https://www.youtube.com/watch?v=2rPmNCz9ln0',\n",
       " 'https://www.youtube.com/watch?v=k-GalufLckg',\n",
       " 'https://www.youtube.com/watch?v=8ZQJRoJgMQ0',\n",
       " 'https://www.youtube.com/watch?v=hNVo6xLSVcg',\n",
       " 'https://www.youtube.com/watch?v=iVAE51iZEDE',\n",
       " 'https://www.youtube.com/watch?v=WzrOM1-m7qI',\n",
       " 'https://www.youtube.com/watch?v=5IR08D-HeUw',\n",
       " 'https://www.youtube.com/shorts/6gdVayf_WK0',\n",
       " 'https://www.youtube.com/watch?v=sRXXo1tyXmI',\n",
       " 'https://www.youtube.com/watch?v=JnfDUHU3VgA',\n",
       " 'https://www.youtube.com/watch?v=P0dZIp-K_K8',\n",
       " 'https://www.youtube.com/watch?v=XZzkHXuGvs4',\n",
       " 'https://www.youtube.com/watch?v=OZFQgk3aC-4',\n",
       " 'https://www.youtube.com/watch?v=oKLCYt6dBPs',\n",
       " 'https://www.youtube.com/watch?v=sBxeisvvTnU',\n",
       " 'https://www.youtube.com/watch?v=i7Ipd_mjmkg',\n",
       " 'https://www.youtube.com/watch?v=jOiaDASYStE',\n",
       " 'https://www.youtube.com/watch?v=lm4J1TatFyE',\n",
       " 'https://www.youtube.com/watch?v=EB4ZCKkBT1Y',\n",
       " 'https://www.youtube.com/watch?v=04SGqv4m0Kw',\n",
       " 'https://www.youtube.com/watch?v=FsFbhXHcOdM',\n",
       " 'https://www.youtube.com/watch?v=UMFK4A41RW0',\n",
       " 'https://www.youtube.com/watch?v=-Z8GyQqN79s',\n",
       " 'https://www.youtube.com/watch?v=urLsbc2Xp_0',\n",
       " 'https://www.youtube.com/shorts/dOjLTDO6U5Y',\n",
       " 'https://www.youtube.com/watch?v=CUPBU_mJUtA',\n",
       " 'https://www.youtube.com/watch?v=EiRS4uhZHLs',\n",
       " 'https://www.youtube.com/watch?v=qGFjlngOyN4',\n",
       " 'https://www.youtube.com/watch?v=GwcO3FO4bM4',\n",
       " 'https://www.youtube.com/watch?v=wdqqAvDw8x4',\n",
       " 'https://www.youtube.com/watch?v=2WEoW_ItjnA',\n",
       " 'https://www.youtube.com/watch?v=z73Ct-4pueo',\n",
       " 'https://www.youtube.com/watch?v=P48G1k56mvE',\n",
       " 'https://www.youtube.com/watch?v=uCjbBAtMyn8',\n",
       " 'https://www.youtube.com/watch?v=5x7_8Do6lBU',\n",
       " 'https://www.youtube.com/watch?v=bi1kwQbWB84',\n",
       " 'https://www.youtube.com/watch?v=isWCQ6m4m5Y',\n",
       " 'https://www.youtube.com/watch?v=mx2nnfnh38g',\n",
       " 'https://www.youtube.com/watch?v=TEvHJlhjksc',\n",
       " 'https://www.youtube.com/watch?v=2TlZLbU2-sY',\n",
       " 'https://www.youtube.com/watch?v=8blhuQP8SnA',\n",
       " 'https://www.youtube.com/watch?v=NTLifuwI7Dg',\n",
       " 'https://www.youtube.com/watch?v=rzWsLQMX-js',\n",
       " 'https://www.youtube.com/shorts/23mo0K_FEjM',\n",
       " 'https://www.youtube.com/watch?v=VWhIBIb-fL8',\n",
       " 'https://www.youtube.com/watch?v=4hyBchBq9r4',\n",
       " 'https://www.youtube.com/watch?v=pUtTXAIjdZw',\n",
       " 'https://www.youtube.com/watch?v=rJO8Rq-yCzU',\n",
       " 'https://www.youtube.com/watch?v=sqqOZ5FVSE0',\n",
       " 'https://www.youtube.com/watch?v=njA9PtV3YOI',\n",
       " 'https://www.youtube.com/shorts/qkNeclPn55M',\n",
       " 'https://www.youtube.com/watch?v=04bUcduP59I',\n",
       " 'https://www.youtube.com/watch?v=QQpKSU822ak',\n",
       " 'https://www.youtube.com/watch?v=iC9hsmWpBoo']"
      ]
     },
     "execution_count": 25,
     "metadata": {},
     "output_type": "execute_result"
    }
   ],
   "source": [
    "links"
   ]
  },
  {
   "cell_type": "code",
   "execution_count": 24,
   "metadata": {},
   "outputs": [
    {
     "name": "stdout",
     "output_type": "stream",
     "text": [
      "[None, 'https://www.youtube.com/watch?v=T4NOt727wqI', 'https://www.youtube.com/watch?v=CKnGXZxK7zs', 'https://www.youtube.com/watch?v=FqNEx17crMI', 'https://www.youtube.com/watch?v=wNCPgIVz15c']\n"
     ]
    }
   ],
   "source": [
    "print(links[0:5])"
   ]
  },
  {
   "cell_type": "code",
   "execution_count": 15,
   "metadata": {},
   "outputs": [
    {
     "data": {
      "text/html": [
       "<div>\n",
       "<style scoped>\n",
       "    .dataframe tbody tr th:only-of-type {\n",
       "        vertical-align: middle;\n",
       "    }\n",
       "\n",
       "    .dataframe tbody tr th {\n",
       "        vertical-align: top;\n",
       "    }\n",
       "\n",
       "    .dataframe thead th {\n",
       "        text-align: right;\n",
       "    }\n",
       "</style>\n",
       "<table border=\"1\" class=\"dataframe\">\n",
       "  <thead>\n",
       "    <tr style=\"text-align: right;\">\n",
       "      <th></th>\n",
       "      <th>Links</th>\n",
       "    </tr>\n",
       "  </thead>\n",
       "  <tbody>\n",
       "  </tbody>\n",
       "</table>\n",
       "</div>"
      ],
      "text/plain": [
       "Empty DataFrame\n",
       "Columns: [Links]\n",
       "Index: []"
      ]
     },
     "execution_count": 15,
     "metadata": {},
     "output_type": "execute_result"
    }
   ],
   "source": [
    "link_data = pd.DataFrame(columns=['Links'])\n",
    "link_data.head()"
   ]
  },
  {
   "cell_type": "code",
   "execution_count": 16,
   "metadata": {},
   "outputs": [],
   "source": [
    "link_data['Links'] = links"
   ]
  },
  {
   "cell_type": "code",
   "execution_count": 18,
   "metadata": {},
   "outputs": [
    {
     "data": {
      "text/html": [
       "<div>\n",
       "<style scoped>\n",
       "    .dataframe tbody tr th:only-of-type {\n",
       "        vertical-align: middle;\n",
       "    }\n",
       "\n",
       "    .dataframe tbody tr th {\n",
       "        vertical-align: top;\n",
       "    }\n",
       "\n",
       "    .dataframe thead th {\n",
       "        text-align: right;\n",
       "    }\n",
       "</style>\n",
       "<table border=\"1\" class=\"dataframe\">\n",
       "  <thead>\n",
       "    <tr style=\"text-align: right;\">\n",
       "      <th></th>\n",
       "      <th>Links</th>\n",
       "    </tr>\n",
       "  </thead>\n",
       "  <tbody>\n",
       "    <tr>\n",
       "      <th>0</th>\n",
       "      <td>None</td>\n",
       "    </tr>\n",
       "    <tr>\n",
       "      <th>1</th>\n",
       "      <td>https://www.youtube.com/watch?v=wLlL46pYcg4</td>\n",
       "    </tr>\n",
       "    <tr>\n",
       "      <th>2</th>\n",
       "      <td>https://www.youtube.com/watch?v=xPXifzNHyYU</td>\n",
       "    </tr>\n",
       "    <tr>\n",
       "      <th>3</th>\n",
       "      <td>https://www.youtube.com/watch?v=9Hxt3GttF38</td>\n",
       "    </tr>\n",
       "    <tr>\n",
       "      <th>4</th>\n",
       "      <td>https://www.youtube.com/watch?v=Oo_em56XPuk</td>\n",
       "    </tr>\n",
       "  </tbody>\n",
       "</table>\n",
       "</div>"
      ],
      "text/plain": [
       "                                         Links\n",
       "0                                         None\n",
       "1  https://www.youtube.com/watch?v=wLlL46pYcg4\n",
       "2  https://www.youtube.com/watch?v=xPXifzNHyYU\n",
       "3  https://www.youtube.com/watch?v=9Hxt3GttF38\n",
       "4  https://www.youtube.com/watch?v=Oo_em56XPuk"
      ]
     },
     "execution_count": 18,
     "metadata": {},
     "output_type": "execute_result"
    }
   ],
   "source": [
    "link_data.head()"
   ]
  },
  {
   "cell_type": "code",
   "execution_count": 26,
   "metadata": {},
   "outputs": [],
   "source": [
    "link_data.to_csv('food.csv')"
   ]
  },
  {
   "cell_type": "code",
   "execution_count": null,
   "metadata": {
    "collapsed": true
   },
   "outputs": [],
   "source": []
  }
 ],
 "metadata": {
  "kernelspec": {
   "display_name": "Python 3 (ipykernel)",
   "language": "python",
   "name": "python3"
  },
  "language_info": {
   "codemirror_mode": {
    "name": "ipython",
    "version": 3
   },
   "file_extension": ".py",
   "mimetype": "text/x-python",
   "name": "python",
   "nbconvert_exporter": "python",
   "pygments_lexer": "ipython3",
   "version": "3.9.7"
  }
 },
 "nbformat": 4,
 "nbformat_minor": 2
}
